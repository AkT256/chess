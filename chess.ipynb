"""
Полноценный шахматный симулятор с:
- 3 новыми фигурами (включаются опционально)
- режимом шашек
- откатом ходов
- подсказками угроз
- проверкой шаха
"""

class Piece:
    """Базовый класс для игровых фигур"""
    def __init__(self, color):
        self.color = color    # 'white' или 'black'
        self.symbol = '?'      # Символ для отображения
        self.moved = False     # Флаг первого хода

    def valid_moves(self, board, x, y):
        """Возвращает список допустимых ходов"""
        return []

    def threatens(self, board, x, y):
        """Возвращает клетки под атакой фигуры"""
        return self.valid_moves(board, x, y)

#region Стандартные шахматные фигуры
class Pawn(Piece):
    def __init__(self, color):
        super().__init__(color)
        self.symbol = 'P' if color == 'white' else 'p'

    def valid_moves(self, board, x, y):
        moves = []
        direction = -1 if self.color == 'white' else 1
        if board.is_empty(x + direction, y):
            moves.append((x + direction, y))
            if not self.moved and board.is_empty(x + 2*direction, y):
                moves.append((x + 2*direction, y))
        for dy in (-1, 1):
            if board.is_enemy(x + direction, y + dy, self.color):
                moves.append((x + direction, y + dy))
        return moves

class Rook(Piece):
    def __init__(self, color):
        super().__init__(color)
        self.symbol = 'R' if color == 'white' else 'r'

    def valid_moves(self, board, x, y):
        moves = []
        directions = [(-1,0), (1,0), (0,-1), (0,1)]
        for dx, dy in directions:
            for step in range(1, 8):
                nx, ny = x + dx*step, y + dy*step
                if not board.is_valid(nx, ny): break
                if board.is_empty(nx, ny): moves.append((nx, ny))
                else:
                    if board.is_enemy(nx, ny, self.color): moves.append((nx, ny))
                    break
        return moves

class Knight(Piece):
    def __init__(self, color):
        super().__init__(color)
        self.symbol = 'N' if color == 'white' else 'n'

    def valid_moves(self, board, x, y):
        jumps = [(-2,-1), (-2,1), (-1,-2), (-1,2),
                 (1,-2), (1,2), (2,-1), (2,1)]
        return [(x+dx, y+dy) for dx, dy in jumps
                if board.is_valid(x+dx, y+dy)
                and not board.is_ally(x+dx, y+dy, self.color)]

class Bishop(Piece):
    def __init__(self, color):
        super().__init__(color)
        self.symbol = 'B' if color == 'white' else 'b'

    def valid_moves(self, board, x, y):
        moves = []
        directions = [(-1,-1), (-1,1), (1,-1), (1,1)]
        for dx, dy in directions:
            for step in range(1, 8):
                nx, ny = x + dx*step, y + dy*step
                if not board.is_valid(nx, ny): break
                if board.is_empty(nx, ny): moves.append((nx, ny))
                else:
                    if board.is_enemy(nx, ny, self.color): moves.append((nx, ny))
                    break
        return moves

class Queen(Piece):
    def __init__(self, color):
        super().__init__(color)
        self.symbol = 'Q' if color == 'white' else 'q'

    def valid_moves(self, board, x, y):
        return Rook(self.color).valid_moves(board, x, y) + Bishop(self.color).valid_moves(board, x, y)

class King(Piece):
    def __init__(self, color):
        super().__init__(color)
        self.symbol = 'K' if color == 'white' else 'k'

    def valid_moves(self, board, x, y):
        return [(x+dx, y+dy) for dx in (-1,0,1) for dy in (-1,0,1)
                if (dx, dy) != (0,0)
                and board.is_valid(x+dx, y+dy)
                and not board.is_ally(x+dx, y+dy, self.color)]
#endregion

#region Дополнительные фигуры
class Dragon(Piece):
    """Ходит на 3 клетки по прямой"""
    def __init__(self, color):
        super().__init__(color)
        self.symbol = 'D' if color == 'white' else 'd'

    def valid_moves(self, board, x, y):
        return [(x+dx, y+dy) for dx in (-3,0,3) for dy in (-3,0,3)
                if (dx, dy) != (0,0) and board.is_valid(x+dx, y+dy)
                and not board.is_ally(x+dx, y+dy, self.color)]

class Jester(Piece):
    """ходит как Король + прыжоки на 2 клетки по диагонали"""
    def __init__(self, color):
        super().__init__(color)
        self.symbol = 'J' if color == 'white' else 'j'

    def valid_moves(self, board, x, y):
        king_moves = [(dx, dy) for dx in (-1,0,1) for dy in (-1,0,1) if (dx, dy) != (0,0)]
        bishop_jumps = [(2*dx, 2*dy) for dx, dy in [(-1,-1), (-1,1), (1,-1), (1,1)]]
        return [ (x+dx, y+dy) for dx, dy in king_moves + bishop_jumps
                if board.is_valid(x+dx, y+dy) and not board.is_ally(x+dx, y+dy, self.color) ]

class Wizard(Piece):
    """Ходит на 2 клетки в любом направлении, перепрыгивает фигуры"""
    def __init__(self, color):
        super().__init__(color)
        self.symbol = 'W' if color == 'white' else 'w'

    def valid_moves(self, board, x, y):
        moves = []
        for dx in (-2, 0, 2):
            for dy in (-2, 0, 2):
                if dx == 0 and dy == 0: continue
                nx, ny = x + dx, y + dy
                if board.is_valid(nx, ny) and not board.is_ally(nx, ny, self.color):
                    moves.append((nx, ny))
        return moves
#endregion

#region Шашечные фигуры
class CheckersPiece(Piece):
    def __init__(self, color):
        super().__init__(color)
        self.symbol = '●' if color == 'black' else '○'
        self.king = False  # Флаг дамки

    def valid_moves(self, board, x, y, must_capture=False):
        moves = []
        capture_moves = []

        # Направления движения
        directions = []
        if self.king:
            # Дамка ходит во все стороны
            directions = [(-1, -1), (-1, 1), (1, -1), (1, 1)]
        else:
            # Обычная шашка ходит только вперед
            directions = [(-1, -1), (-1, 1)] if self.color == 'white' else [(1, -1), (1, 1)]

        # Проверка всех возможных направлений
        for dx, dy in directions:
            nx, ny = x + dx, y + dy
            if board.is_valid(nx, ny):
                if board.is_empty(nx, ny) and not must_capture:
                    moves.append((nx, ny))
                elif board.is_enemy(nx, ny, self.color):
                    # Проверка возможности взятия
                    nx2, ny2 = x + 2*dx, y + 2*dy
                    if board.is_valid(nx2, ny2) and board.is_empty(nx2, ny2):
                        capture_moves.append((nx2, ny2, nx, ny))  # (куда, кого бьем)

        # Если есть взятия - возвращаем только их
        if capture_moves and not must_capture:
            return self.get_multiple_captures(board, x, y, [], [])
        elif must_capture:
            return capture_moves

        return moves if not must_capture else []

    def get_multiple_captures(self, board, x, y, path, captured):
        """Рекурсивный поиск множественных взятий"""
        moves = []
        for dx, dy in [(-1,-1), (-1,1), (1,-1), (1,1)] if self.king else \
                     [(-1,-1), (-1,1)] if self.color == 'white' else [(1,-1), (1,1)]:

            nx, ny = x + dx, y + dy
            if board.is_valid(nx, ny) and board.is_enemy(nx, ny, self.color):
                nx2, ny2 = x + 2*dx, y + 2*dy
                if (nx2, ny2) not in path and board.is_valid(nx2, ny2) and board.is_empty(nx2, ny2):
                    # Сохраняем состояние
                    temp = board.grid[nx][ny]
                    board.grid[nx][ny] = None

                    # Продолжаем поиск взятий
                    new_path = path + [(x, y)]
                    new_captured = captured + [(nx, ny)]
                    further_moves = self.get_multiple_captures(board, nx2, ny2, new_path, new_captured)

                    # Восстанавливаем состояние
                    board.grid[nx][ny] = temp

                    if further_moves:
                        for move in further_moves:
                            moves.append(move)
                    else:
                        moves.append((nx2, ny2, nx, ny))

        return moves if moves else []

    def promote_to_king(self):
        """Превращение в дамку"""
        self.king = True
        self.symbol = '◉' if self.color == 'black' else '◎'

class Board:
    def __init__(self, mode='chess', custom_pieces=False):
        self.grid = [[None for _ in range(8)] for _ in range(8)]
        self.mode = mode
        self.custom_pieces = custom_pieces
        self.setup()

    def setup(self):
        if self.mode == 'chess':
            # Основные фигуры
            main_pieces = [Rook, Knight, Bishop, Queen, King, Bishop, Knight, Rook]
            for col in range(8):
                # Черные основные фигуры
                self.grid[0][col] = main_pieces[col]('black')
                # Белые основные фигуры
                self.grid[7][col] = main_pieces[col]('white')

                # Пешки с заменой центральных на доп. фигуры
                if col in {3, 4, 5} and self.custom_pieces:
                    # Черные доп. фигуры
                    self.grid[1][col] = [Dragon, Jester, Wizard][col-3]('black')
                    # Белые доп. фигуры
                    self.grid[6][col] = [Dragon, Jester, Wizard][col-3]('white')
                else:
                    # Стандартные пешки
                    self.grid[1][col] = Pawn('black')
                    self.grid[6][col] = Pawn('white')

        elif self.mode == 'checkers':
            for i in range(8):
                for j in range((i+1)%2, 8, 2):
                    if i < 3:
                        self.grid[i][j] = CheckersPiece('black')
                    elif i > 4:
                        self.grid[i][j] = CheckersPiece('white')

    #region Вспомогательные методы
    def is_valid(self, x, y): return 0 <= x < 8 and 0 <= y < 8
    def is_empty(self, x, y): return self.is_valid(x, y) and not self.grid[x][y]
    def is_enemy(self, x, y, color): return self.is_valid(x, y) and self.grid[x][y] and self.grid[x][y].color != color
    def is_ally(self, x, y, color): return self.is_valid(x, y) and self.grid[x][y] and self.grid[x][y].color == color
    def get_piece(self, x, y): return self.grid[x][y] if self.is_valid(x, y) else None
    #endregion

    def display(self, highlights=None, threats=None):
        print("\n  a b c d e f g h")
        for i, row in enumerate(self.grid):
            line = []
            for j, piece in enumerate(row):
                sym = piece.symbol if piece else '·'
                if threats and (i, j) in threats: sym = f"\033[91m{sym}\033[0m"
                elif highlights and (i, j) in highlights: sym = f"\033[92m{sym}\033[0m"
                line.append(sym)
            print(f"{8-i} {' '.join(line)} {8-i}")
        print("  a b c d e f g h\n")

class Game:
    def __init__(self, mode='chess', custom_pieces=False):
        self.board = Board(mode, custom_pieces)
        self.mode = mode
        self.turn = 'white'
        self.history = []
        self.move_count = 0

    def play(self):
        game_active = True
        while game_active:
            threats = self.calculate_threats()
            in_check = self.check_check()
            self.board.display(threats=threats)

            if in_check:
                print(f"ШАХ {'белому' if self.turn == 'white' else 'черному'} королю!")

            cmd = input(f"Ход {self.turn}. Ход №{self.move_count}\nВведите ход или 'undo': ").strip().lower()

            if cmd == 'undo':
                self.undo_move()
                continue

            try:
                from_pos, to_pos = cmd.split()
                fx, fy = self.parse_pos(from_pos)
                tx, ty = self.parse_pos(to_pos)

                if self.validate_move(fx, fy, tx, ty):
                    game_over = self.make_move(fx, fy, tx, ty)
                    if game_over:
                        print(f"\n{'='*30}\nИгрок {self.turn} победил!\n{'='*30}")
                        game_active = False
                else:
                    # Добавлено явное сообщение о недопустимом ходе
                    print("Недопустимый ход! Попробуйте снова.")

            except Exception as e:
                print(f"Ошибка ввода: {e}. Используйте формат 'e2 e4'")

    def validate_move(self, fx, fy, tx, ty):
        piece = self.board.get_piece(fx, fy)
        return piece and piece.color == self.turn and (tx, ty) in piece.valid_moves(self.board, fx, fy)

    def make_move(self, fx, fy, tx, ty):
        piece = self.board.get_piece(fx, fy)
        target = self.board.get_piece(tx, ty)

        # Сохраняем историю
        self.history.append([row.copy() for row in self.board.grid])

        # Проверка на взятие
        is_capture = abs(tx - fx) == 2

        # Выполняем ход
        self.board.grid[tx][ty] = piece
        self.board.grid[fx][fy] = None

        # Удаляем съеденную фигуру
        if is_capture:
            captured_x = (fx + tx) // 2
            captured_y = (fy + ty) // 2
            self.board.grid[captured_x][captured_y] = None

            # Проверка на множественное взятие
            piece.moved = True
            further_captures = piece.valid_moves(self.board, tx, ty, must_capture=True)

            if further_captures:
                self.board.display()
                print(f"Можно продолжить взятие с {chr(ty+97)}{8-tx}")
                return False  # Игра продолжается, тот же игрок ходит

        # Превращение в дамку
        if isinstance(piece, CheckersPiece) and not piece.king:
            if (piece.color == 'black' and tx == 7) or (piece.color == 'white' and tx == 0):
                piece.promote_to_king()

        # Смена хода, если не было множественного взятия
        self.turn = 'black' if self.turn == 'white' else 'white'
        self.move_count += 1
        return False

    def undo_move(self):
        if self.history:
            self.board.grid = self.history.pop()
            self.turn = 'black' if self.turn == 'white' else 'white'
            self.move_count = max(0, self.move_count-1)

    def calculate_threats(self):
        threatened = set()
        enemy_attack = set()
        for i in range(8):
            for j in range(8):
                piece = self.board.get_piece(i, j)
                if piece and piece.color != self.turn:
                    enemy_attack.update(piece.threatens(self.board, i, j))
        for i in range(8):
            for j in range(8):
                if (i, j) in enemy_attack and self.board.get_piece(i, j) and self.board.get_piece(i, j).color == self.turn:
                    threatened.add((i, j))
        return threatened

    def check_check(self):
        king_pos = next(((i, j) for i in range(8) for j in range(8)
                       if isinstance(self.board.get_piece(i, j), King) and self.board.get_piece(i, j).color == self.turn), None)
        if not king_pos: return False
        enemy_attack = set()
        for i in range(8):
            for j in range(8):
                piece = self.board.get_piece(i, j)
                if piece and piece.color != self.turn:
                    enemy_attack.update(piece.threatens(self.board, i, j))
        return king_pos in enemy_attack

    def parse_pos(self, pos):
        return (8 - int(pos[1]), ord(pos[0]) - ord('a'))


  # Запуск игры
mode = input("Режим (chess/checkers): ").lower().strip()
custom = False
if mode == 'chess':
    custom = input("Доп. фигуры (y/n): ").lower().strip() == 'y'
Game(mode if mode in ['chess','checkers'] else 'chess', custom).play()
