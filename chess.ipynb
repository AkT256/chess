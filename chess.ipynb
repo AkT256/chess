"""
Шахматный и шашечный симулятор с функциями:
- Основные шахматные фигуры с правильными ходами
- 3 новые фигуры с уникальными ходами (Дракон, Шут, Волшебник)
- Режим шашек с полной реализацией правил
- Откат ходов (undo)
- Подсветка доступных ходов
- Проверка шаха в шахматах
"""

class Piece:
    """Базовый класс для игровых фигур"""
    def __init__(self, color):
        self.color = color  # 'white' или 'black'
        self.symbol = '?'   # Символ для отображения
        self.moved = False  # Для отслеживания первого хода

    def valid_moves(self, board, x, y):
        """Возвращает список допустимых ходов"""
        return []

    def threatens(self, board, x, y):
        """Клетки под атакой фигуры"""
        return self.valid_moves(board, x, y)

# Реализация шахматных фигур
class ChessPiece(Piece):
    """Базовый класс для шахматных фигур"""
    pass

class Pawn(ChessPiece):
    def __init__(self, color):
        super().__init__(color)
        self.symbol = 'P' if color == 'white' else 'p'

    def valid_moves(self, board, x, y):
        moves = []
        direction = -1 if self.color == 'white' else 1
        
        # Обычный ход
        if board.is_empty(x + direction, y):
            moves.append((x + direction, y))
            if not self.moved and board.is_empty(x + 2*direction, y):
                moves.append((x + 2*direction, y))
        
        # Взятие
        for dy in (-1, 1):
            if board.is_enemy(x + direction, y + dy, self.color):
                moves.append((x + direction, y + dy))
        
        return moves

class Rook(ChessPiece):
    def __init__(self, color):
        super().__init__(color)
        self.symbol = 'R' if color == 'white' else 'r'

    def valid_moves(self, board, x, y):
        moves = []
        directions = [(-1,0), (1,0), (0,-1), (0,1)]
        for dx, dy in directions:
            for step in range(1, 8):
                nx, ny = x + dx*step, y + dy*step
                if not board.is_valid(nx, ny): break
                if board.is_empty(nx, ny): 
                    moves.append((nx, ny))
                else:
                    if board.is_enemy(nx, ny, self.color): 
                        moves.append((nx, ny))
                    break
        return moves

class Knight(ChessPiece):
    def __init__(self, color):
        super().__init__(color)
        self.symbol = 'N' if color == 'white' else 'n'

    def valid_moves(self, board, x, y):
        jumps = [(-2,-1), (-2,1), (-1,-2), (-1,2),
                 (1,-2), (1,2), (2,-1), (2,1)]
        return [(x+dx, y+dy) for dx, dy in jumps
                if board.is_valid(x+dx, y+dy)
                and not board.is_ally(x+dx, y+dy, self.color)]

class Bishop(ChessPiece):
    def __init__(self, color):
        super().__init__(color)
        self.symbol = 'B' if color == 'white' else 'b'

    def valid_moves(self, board, x, y):
        moves = []
        directions = [(-1,-1), (-1,1), (1,-1), (1,1)]
        for dx, dy in directions:
            for step in range(1, 8):
                nx, ny = x + dx*step, y + dy*step
                if not board.is_valid(nx, ny): break
                if board.is_empty(nx, ny): 
                    moves.append((nx, ny))
                else:
                    if board.is_enemy(nx, ny, self.color): 
                        moves.append((nx, ny))
                    break
        return moves

class Queen(ChessPiece):
    def __init__(self, color):
        super().__init__(color)
        self.symbol = 'Q' if color == 'white' else 'q'

    def valid_moves(self, board, x, y):
        return Rook(self.color).valid_moves(board, x, y) + Bishop(self.color).valid_moves(board, x, y)

class King(ChessPiece):
    def __init__(self, color):
        super().__init__(color)
        self.symbol = 'K' if color == 'white' else 'k'

    def valid_moves(self, board, x, y):
        return [(x+dx, y+dy) for dx in (-1,0,1) for dy in (-1,0,1)
                if (dx, dy) != (0,0)
                and board.is_valid(x+dx, y+dy)
                and not board.is_ally(x+dx, y+dy, self.color)]

# Дополнительные шахматные фигуры
class Dragon(ChessPiece):
    """Ходит на 3 клетки по прямой"""
    def __init__(self, color):
        super().__init__(color)
        self.symbol = 'D' if color == 'white' else 'd'

    def valid_moves(self, board, x, y):
        return [(x+dx, y+dy) for dx in (-3,0,3) for dy in (-3,0,3)
                if (dx, dy) != (0,0) 
                and board.is_valid(x+dx, y+dy)
                and not board.is_ally(x+dx, y+dy, self.color)]

class Jester(ChessPiece):
    """Ходит как король + прыжки на 2 клетки по диагонали"""
    def __init__(self, color):
        super().__init__(color)
        self.symbol = 'J' if color == 'white' else 'j'

    def valid_moves(self, board, x, y):
        king_moves = [(dx, dy) for dx in (-1,0,1) for dy in (-1,0,1) if (dx, dy) != (0,0)]
        bishop_jumps = [(2*dx, 2*dy) for dx, dy in [(-1,-1), (-1,1), (1,-1), (1,1)]]
        return [ (x+dx, y+dy) for dx, dy in king_moves + bishop_jumps
                if board.is_valid(x+dx, y+dy) 
                and not board.is_ally(x+dx, y+dy, self.color) ]

class Wizard(ChessPiece):
    """Ходит на 2 клетки в любом направлении, перепрыгивает фигуры"""
    def __init__(self, color):
        super().__init__(color)
        self.symbol = 'W' if color == 'white' else 'w'

    def valid_moves(self, board, x, y):
        moves = []
        for dx in (-2, 0, 2):
            for dy in (-2, 0, 2):
                if dx == 0 and dy == 0: continue
                nx, ny = x + dx, y + dy
                if board.is_valid(nx, ny) and not board.is_ally(nx, ny, self.color):
                    moves.append((nx, ny))
        return moves

# Реализация шашечных фигур
class CheckersPiece(Piece):
    def __init__(self, color):
        super().__init__(color)
        self.symbol = '○' if color == 'white' else '●'
        self.is_king = False

    def valid_moves(self, board, x, y):
        moves = []
        captures = []
        directions = []

        if self.is_king:
            directions = [(-1, -1), (-1, 1), (1, -1), (1, 1)]
        else:
            directions = [(-1, -1), (-1, 1)] if self.color == 'white' else [(1, -1), (1, 1)]

        # Проверка обычных ходов
        for dr, dc in directions:
            new_row, new_col = x + dr, y + dc
            if 0 <= new_row < 8 and 0 <= new_col < 8:
                if board.is_empty(new_row, new_col):
                    moves.append((new_row, new_col))

        # Проверка взятий
        for dr, dc in directions:
            jump_row, jump_col = x + 2*dr, y + 2*dc
            if 0 <= jump_row < 8 and 0 <= jump_col < 8:
                middle_row, middle_col = x + dr, y + dc
                middle_piece = board.get_piece(middle_row, middle_col)
                if (middle_piece is not None and 
                    middle_piece.color != self.color and 
                    board.is_empty(jump_row, jump_col)):
                    captures.append((jump_row, jump_col, middle_row, middle_col))

        return (moves, captures)

    def promote_to_king(self):
        """Превращение в дамку"""
        self.is_king = True
        self.symbol = '◉' if self.color == 'black' else '◎'

class Board:
    """Класс игровой доски"""
    def __init__(self, mode='chess', custom_pieces=False):
        self.grid = [[None for _ in range(8)] for _ in range(8)]
        self.mode = mode
        self.custom_pieces = custom_pieces
        self.setup()

    def setup(self):
        if self.mode == 'chess':
            # Основные фигуры
            main_pieces = [Rook, Knight, Bishop, Queen, King, Bishop, Knight, Rook]
            for col in range(8):
                # Черные основные фигуры
                self.grid[0][col] = main_pieces[col]('black')
                # Белые основные фигуры
                self.grid[7][col] = main_pieces[col]('white')

                # Пешки с заменой центральных на доп. фигуры
                if col in {3, 4, 5} and self.custom_pieces:
                    # Черные доп. фигуры
                    self.grid[1][col] = [Dragon, Jester, Wizard][col-3]('black')
                    # Белые доп. фигуры
                    self.grid[6][col] = [Dragon, Jester, Wizard][col-3]('white')
                else:
                    # Стандартные пешки
                    self.grid[1][col] = Pawn('black')
                    self.grid[6][col] = Pawn('white')

        elif self.mode == 'checkers':
            for i in range(8):
                for j in range((i+1)%2, 8, 2):
                    if i < 3:
                        self.grid[i][j] = CheckersPiece('black')
                    elif i > 4:
                        self.grid[i][j] = CheckersPiece('white')

    # Вспомогательные методы
    def is_valid(self, x, y): return 0 <= x < 8 and 0 <= y < 8
    def is_empty(self, x, y): return self.is_valid(x, y) and not self.grid[x][y]
    def is_enemy(self, x, y, color): return self.is_valid(x, y) and self.grid[x][y] and self.grid[x][y].color != color
    def is_ally(self, x, y, color): return self.is_valid(x, y) and self.grid[x][y] and self.grid[x][y].color == color
    def get_piece(self, x, y): return self.grid[x][y] if self.is_valid(x, y) else None

    def display(self, highlights=None):
        """Отображение доски с подсветкой ходов"""
        print("\n  a b c d e f g h")
        for i, row in enumerate(self.grid):
            line = []
            for j, piece in enumerate(row):
                sym = piece.symbol if piece else '·'
                if highlights and (i, j) in highlights: 
                    sym = f"\033[92m{sym}\033[0m"  # Зеленая подсветка
                line.append(sym)
            print(f"{8-i} {' '.join(line)} {8-i}")
        print("  a b c d e f g h\n")

class Game:
    """Управление игровым процессом"""
    def __init__(self, mode='chess', custom_pieces=False):
        self.board = Board(mode, custom_pieces)
        self.mode = mode
        self.turn = 'white'
        self.history = []
        self.move_count = 0

    def play(self):
        """Основной игровой цикл"""
        game_active = True
        while game_active:
            if self.mode == 'chess':
                in_check = self.check_check()
                if in_check:
                    print(f"ШАХ {'белому' if self.turn == 'white' else 'черному'} королю!")

            self.board.display()
            
            cmd = input(f"Ход {self.turn}. Ход №{self.move_count}\nВведите ход или 'undo': ").strip().lower()

            if cmd == 'undo':
                self.undo_move()
                continue

            # Режим выбора фигуры с подсветкой ходов
            if ' ' not in cmd:
                try:
                    fx, fy = self.parse_pos(cmd)
                    piece = self.board.get_piece(fx, fy)
                    if piece and piece.color == self.turn:
                        if self.mode == 'chess':
                            moves = piece.valid_moves(self.board, fx, fy)
                        else:  # checkers
                            moves, _ = piece.valid_moves(self.board, fx, fy)
                        self.board.display(highlights=moves)
                        continue
                except:
                    pass
                print("Неверная позиция!")
                continue

            try:
                from_pos, to_pos = cmd.split()
                fx, fy = self.parse_pos(from_pos)
                tx, ty = self.parse_pos(to_pos)

                if self.validate_move(fx, fy, tx, ty):
                    game_over = self.make_move(fx, fy, tx, ty)
                    if game_over:
                        print(f"\n{'='*30}\nИгрок {self.turn} победил!\n{'='*30}")
                        game_active = False
                else:
                    print("Недопустимый ход! Попробуйте снова.")

            except Exception as e:
                print(f"Ошибка ввода: {e}. Используйте формат 'e2 e4'")

    def validate_move(self, fx, fy, tx, ty):
        piece = self.board.get_piece(fx, fy)
        if not piece or piece.color != self.turn:
            return False
            
        if self.mode == 'chess':
            return (tx, ty) in piece.valid_moves(self.board, fx, fy)
        else:  # checkers
            moves, captures = piece.valid_moves(self.board, fx, fy)
            # Проверка на обязательное взятие
            must_capture = any(captures)
            if must_capture:
                for capture in captures:
                    if (tx, ty) == (capture[0], capture[1]):
                        return True
                return False
            return (tx, ty) in moves

    def make_move(self, fx, fy, tx, ty):
        """Обработка хода"""
        piece = self.board.get_piece(fx, fy)
        
        # Сохраняем историю
        self.history.append([row.copy() for row in self.board.grid])

        if self.mode == 'chess':
            # Выполняем ход
            self.board.grid[tx][ty] = piece
            self.board.grid[fx][fy] = None
            piece.moved = True
            
            # Смена хода
            self.turn = 'black' if self.turn == 'white' else 'white'
            self.move_count += 1
            return False
            
        else:  # checkers
            moves, captures = piece.valid_moves(self.board, fx, fy)
            
            # Проверка на обязательное взятие
            must_capture = any(captures)
            
            # Обычный ход (без взятия)
            if not must_capture and (tx, ty) in moves:
                self.board.grid[tx][ty] = piece
                self.board.grid[fx][fy] = None
                
                # Проверка на превращение в дамку
                if (piece.color == 'white' and tx == 0) or (piece.color == 'black' and tx == 7):
                    piece.promote_to_king()
                
                self.turn = 'black' if self.turn == 'white' else 'white'
                self.move_count += 1
                return False

            # Взятие
            for capture in captures:
                if (tx, ty) == (capture[0], capture[1]):
                    self.board.grid[tx][ty] = piece
                    self.board.grid[fx][fy] = None
                    self.board.grid[capture[2]][capture[3]] = None
                    
                    # Проверка на превращение в дамку
                    if (piece.color == 'white' and tx == 0) or (piece.color == 'black' and tx == 7):
                        piece.promote_to_king()
                    
                    # Проверка на возможность дальнейшего взятия
                    _, new_captures = piece.valid_moves(self.board, tx, ty)
                    if new_captures:
                        return False
                    
                    self.turn = 'black' if self.turn == 'white' else 'white'
                    self.move_count += 1
                    return False

            return False

    def undo_move(self):
        """Отмена последнего хода"""
        if self.history:
            self.board.grid = self.history.pop()
            self.turn = 'black' if self.turn == 'white' else 'white'
            self.move_count = max(0, self.move_count-1)

    def check_check(self):
        """Проверка наличия шаха (только для шахмат)"""
        if self.mode != 'chess':
            return False
            
        king_pos = next(((i, j) for i in range(8) for j in range(8)
                       if isinstance(self.board.get_piece(i, j), King) and self.board.get_piece(i, j).color == self.turn), None)
        if not king_pos: return False
        
        # Проверка атакующих ходов
        for i in range(8):
            for j in range(8):
                piece = self.board.get_piece(i, j)
                if piece and piece.color != self.turn:
                    if king_pos in piece.threatens(self.board, i, j):
                        return True
        return False

    def parse_pos(self, pos):
        """Конвертация формата a1 в координаты"""
        return (8 - int(pos[1]), ord(pos[0]) - ord('a'))

# Запуск игры
print("Выберите режим игры:")
print("1 - Шахматы")
print("2 - Шашки")
mode_choice = input("Введите номер режима (1 или 2): ").strip()
mode = 'chess' if mode_choice == '1' else 'checkers'

custom = False
if mode == 'chess':
    custom_choice = input("Использовать дополнительные фигуры? (y/n): ").lower().strip()
    custom = custom_choice == 'y'

Game(mode, custom).play()
